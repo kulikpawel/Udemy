{
  "nbformat": 4,
  "nbformat_minor": 0,
  "metadata": {
    "colab": {
      "provenance": [],
      "authorship_tag": "ABX9TyNE3w07He+GyTAeMNA2IkK1",
      "include_colab_link": true
    },
    "kernelspec": {
      "name": "python3",
      "display_name": "Python 3"
    },
    "language_info": {
      "name": "python"
    }
  },
  "cells": [
    {
      "cell_type": "markdown",
      "metadata": {
        "id": "view-in-github",
        "colab_type": "text"
      },
      "source": [
        "<a href=\"https://colab.research.google.com/github/kulikpawel/Udemy/blob/main/Udemy_kurs_001.ipynb\" target=\"_parent\"><img src=\"https://colab.research.google.com/assets/colab-badge.svg\" alt=\"Open In Colab\"/></a>"
      ]
    },
    {
      "cell_type": "code",
      "execution_count": 2,
      "metadata": {
        "colab": {
          "base_uri": "https://localhost:8080/"
        },
        "id": "VvsZ1NSZZE_7",
        "outputId": "9b8101c3-5ae2-4adc-a281-e9648c4b6224"
      },
      "outputs": [
        {
          "output_type": "stream",
          "name": "stdout",
          "text": [
            "Hello Udemy\n"
          ]
        }
      ],
      "source": [
        "print(\"Hello Udemy\")"
      ]
    },
    {
      "cell_type": "code",
      "source": [
        "x = float(input(\"x = \"))\n",
        "if x >=0:\n",
        "  print(\"|\", x, \"| = \", x)\n",
        "else:\n",
        "    print(\"|\", x, \"| = \", -x)"
      ],
      "metadata": {
        "id": "aF0A1VtUZL1M"
      },
      "execution_count": null,
      "outputs": []
    }
  ]
}